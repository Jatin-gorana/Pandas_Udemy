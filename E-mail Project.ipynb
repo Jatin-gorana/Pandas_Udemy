{
 "cells": [
  {
   "cell_type": "code",
   "execution_count": 7,
   "id": "a7db486c",
   "metadata": {},
   "outputs": [
    {
     "ename": "ImportError",
     "evalue": "cannot import name 'smtp' from 'smtplib' (C:\\Program Files\\Python311\\Lib\\smtplib.py)",
     "output_type": "error",
     "traceback": [
      "\u001b[1;31m---------------------------------------------------------------------------\u001b[0m",
      "\u001b[1;31mImportError\u001b[0m                               Traceback (most recent call last)",
      "Cell \u001b[1;32mIn[7], line 1\u001b[0m\n\u001b[1;32m----> 1\u001b[0m \u001b[38;5;28;01mfrom\u001b[39;00m \u001b[38;5;21;01msmtplib\u001b[39;00m \u001b[38;5;28;01mimport\u001b[39;00m smtp\n",
      "\u001b[1;31mImportError\u001b[0m: cannot import name 'smtp' from 'smtplib' (C:\\Program Files\\Python311\\Lib\\smtplib.py)"
     ]
    }
   ],
   "source": [
    "from smtplib import smtp"
   ]
  },
  {
   "cell_type": "code",
   "execution_count": null,
   "id": "c1ecaf90",
   "metadata": {},
   "outputs": [],
   "source": []
  }
 ],
 "metadata": {
  "kernelspec": {
   "display_name": "Python 3 (ipykernel)",
   "language": "python",
   "name": "python3"
  },
  "language_info": {
   "codemirror_mode": {
    "name": "ipython",
    "version": 3
   },
   "file_extension": ".py",
   "mimetype": "text/x-python",
   "name": "python",
   "nbconvert_exporter": "python",
   "pygments_lexer": "ipython3",
   "version": "3.11.0"
  }
 },
 "nbformat": 4,
 "nbformat_minor": 5
}
