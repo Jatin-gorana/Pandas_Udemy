{
 "cells": [
  {
   "cell_type": "code",
   "execution_count": 1,
   "id": "b4748c85",
   "metadata": {},
   "outputs": [],
   "source": [
    "tup = ('january', 'feb', 'march', 'april', 'may')"
   ]
  },
  {
   "cell_type": "code",
   "execution_count": 4,
   "id": "991ae145",
   "metadata": {},
   "outputs": [
    {
     "data": {
      "text/plain": [
       "('january', 'feb', 'march', 'april', 'may')"
      ]
     },
     "execution_count": 4,
     "metadata": {},
     "output_type": "execute_result"
    }
   ],
   "source": [
    "tup"
   ]
  },
  {
   "cell_type": "code",
   "execution_count": 6,
   "id": "3beeccad",
   "metadata": {},
   "outputs": [
    {
     "name": "stdout",
     "output_type": "stream",
     "text": [
      "('january', 'feb', 'march', 'april', 'may', 'january', 'feb', 'march', 'april', 'may', 'january', 'feb', 'march', 'april', 'may')\n"
     ]
    }
   ],
   "source": [
    "print(tup*3)"
   ]
  },
  {
   "cell_type": "code",
   "execution_count": 19,
   "id": "748dba4c",
   "metadata": {},
   "outputs": [],
   "source": [
    "set1 = [1,2,3,4,'jatin', '3rf']   "
   ]
  },
  {
   "cell_type": "code",
   "execution_count": 21,
   "id": "0cffc3be",
   "metadata": {},
   "outputs": [
    {
     "name": "stdout",
     "output_type": "stream",
     "text": [
      "True True False\n"
     ]
    }
   ],
   "source": [
    "print(1 in set(set1), 'jatin' in set(set1), 34 in set(set1))"
   ]
  },
  {
   "cell_type": "code",
   "execution_count": 22,
   "id": "254e453c",
   "metadata": {},
   "outputs": [],
   "source": [
    "set2 = set()"
   ]
  },
  {
   "cell_type": "code",
   "execution_count": 24,
   "id": "9489f98b",
   "metadata": {},
   "outputs": [],
   "source": [
    "set2.add(34)\n",
    "set2.add('jatin')"
   ]
  },
  {
   "cell_type": "code",
   "execution_count": 25,
   "id": "da108832",
   "metadata": {},
   "outputs": [],
   "source": [
    "y=len(set2)"
   ]
  },
  {
   "cell_type": "code",
   "execution_count": 26,
   "id": "255cab6e",
   "metadata": {},
   "outputs": [
    {
     "name": "stdout",
     "output_type": "stream",
     "text": [
      "2\n"
     ]
    }
   ],
   "source": [
    "print(y)"
   ]
  },
  {
   "cell_type": "code",
   "execution_count": 30,
   "id": "bb58af14",
   "metadata": {},
   "outputs": [
    {
     "name": "stdout",
     "output_type": "stream",
     "text": [
      "0 23\n",
      "1 18\n",
      "2 34\n",
      "3 45\n",
      "4 55\n"
     ]
    }
   ],
   "source": [
    "ages = [23,18,34,45,55]\n",
    "for index,age in enumerate(ages):\n",
    "    print(index, age)"
   ]
  },
  {
   "cell_type": "code",
   "execution_count": 36,
   "id": "c260af78",
   "metadata": {},
   "outputs": [
    {
     "name": "stdout",
     "output_type": "stream",
     "text": [
      "5\n",
      "7\n",
      "9\n"
     ]
    }
   ],
   "source": [
    "for i in range(5,10, 2):\n",
    "    print(i)"
   ]
  },
  {
   "cell_type": "code",
   "execution_count": 38,
   "id": "38da6ea0",
   "metadata": {},
   "outputs": [
    {
     "name": "stdout",
     "output_type": "stream",
     "text": [
      "Current number:  1\n",
      "Current number:  2\n",
      "Current number:  3\n",
      "Current number:  4\n"
     ]
    }
   ],
   "source": [
    "for num in range(5):\n",
    "    if num==0:\n",
    "        continue\n",
    "    print('Current number: ', num)"
   ]
  },
  {
   "cell_type": "code",
   "execution_count": 39,
   "id": "b554e822",
   "metadata": {},
   "outputs": [
    {
     "name": "stdout",
     "output_type": "stream",
     "text": [
      "[('red', 1), ('yellow', 2), ('green', 3)]\n"
     ]
    }
   ],
   "source": [
    "print(list(zip(['red', 'yellow', 'green'], [1,2,3])))"
   ]
  },
  {
   "cell_type": "code",
   "execution_count": 41,
   "id": "21cfb211",
   "metadata": {},
   "outputs": [
    {
     "name": "stdout",
     "output_type": "stream",
     "text": [
      "red : 1\n",
      "yellow : 2\n",
      "green : 3\n"
     ]
    }
   ],
   "source": [
    "colors = ['red', 'yellow', 'green']    #for zipping nested lists\n",
    "nums = [1,2,3]\n",
    "for color,num in zip(colors,nums):\n",
    "    print(\"{} : {}\".format(color,num))"
   ]
  },
  {
   "cell_type": "code",
   "execution_count": 42,
   "id": "0c66700a",
   "metadata": {},
   "outputs": [
    {
     "name": "stdout",
     "output_type": "stream",
     "text": [
      "red 1\n",
      "yellow 2\n",
      "green 3\n"
     ]
    }
   ],
   "source": [
    "colors = ['red', 'yellow', 'green']    #for unzipping nested lists\n",
    "nums = [1,2,3]\n",
    "colors_list = [colors, nums]\n",
    "for colors, nums in zip(*colors_list):\n",
    "    print(colors, nums)"
   ]
  },
  {
   "cell_type": "code",
   "execution_count": 44,
   "id": "33402773",
   "metadata": {},
   "outputs": [
    {
     "name": "stdout",
     "output_type": "stream",
     "text": [
      "Variable word is not defined\n"
     ]
    }
   ],
   "source": [
    "try:\n",
    "    print(word)\n",
    "except NameError:\n",
    "    print(\"Variable word is not defined\")\n",
    "except:\n",
    "    print(\"Something else went wrong\")"
   ]
  },
  {
   "cell_type": "code",
   "execution_count": 49,
   "id": "11ec2dad",
   "metadata": {},
   "outputs": [],
   "source": [
    "def areaoftriangle(l, b):\n",
    "    area = 0.5 * l * b\n",
    "    return area"
   ]
  },
  {
   "cell_type": "code",
   "execution_count": 51,
   "id": "6d36afcd",
   "metadata": {
    "scrolled": true
   },
   "outputs": [
    {
     "data": {
      "text/plain": [
       "15.0"
      ]
     },
     "execution_count": 51,
     "metadata": {},
     "output_type": "execute_result"
    }
   ],
   "source": [
    "areaoftriangle(5,6)"
   ]
  },
  {
   "cell_type": "code",
   "execution_count": 52,
   "id": "bb0a898e",
   "metadata": {},
   "outputs": [],
   "source": [
    "def evenodd(x):\n",
    "    if x%2==0:\n",
    "        return \"Even\"\n",
    "    else: \n",
    "        return \"Odd\""
   ]
  },
  {
   "cell_type": "code",
   "execution_count": 53,
   "id": "ca0908d0",
   "metadata": {},
   "outputs": [
    {
     "data": {
      "text/plain": [
       "'Odd'"
      ]
     },
     "execution_count": 53,
     "metadata": {},
     "output_type": "execute_result"
    }
   ],
   "source": [
    "evenodd(5)"
   ]
  },
  {
   "cell_type": "code",
   "execution_count": 54,
   "id": "015aa2c3",
   "metadata": {},
   "outputs": [
    {
     "name": "stdout",
     "output_type": "stream",
     "text": [
      "6\n"
     ]
    }
   ],
   "source": [
    "y=lambda a,b: a*b\n",
    "print(y(2,3))"
   ]
  },
  {
   "cell_type": "code",
   "execution_count": 56,
   "id": "eaf92215",
   "metadata": {},
   "outputs": [
    {
     "name": "stdout",
     "output_type": "stream",
     "text": [
      "Hi\n"
     ]
    }
   ],
   "source": [
    "class UserData:\n",
    "    def show(self):\n",
    "        print('Hi')\n",
    "        \n",
    "def check():\n",
    "    x = UserData()\n",
    "    x.show()\n",
    "    \n",
    "check()"
   ]
  },
  {
   "cell_type": "code",
   "execution_count": 78,
   "id": "4f68c56a",
   "metadata": {},
   "outputs": [
    {
     "name": "stdout",
     "output_type": "stream",
     "text": [
      "Jatin is 18 years old.\n"
     ]
    }
   ],
   "source": [
    "class NameAge():        #classes using dunder method __str__\n",
    "    def __init__(self, name, age):\n",
    "        self.name = name\n",
    "        self.age = age\n",
    "    def __str__(self):\n",
    "        return '{} is {} years old.'.format(self.name, self.age)\n",
    "    \n",
    "User_1 = NameAge('Jatin', 18)\n",
    "print(User_1)"
   ]
  },
  {
   "cell_type": "code",
   "execution_count": 86,
   "id": "1cf149f8",
   "metadata": {},
   "outputs": [],
   "source": [
    "class Car(NameAge):            #inheritance\n",
    "    def __init__(self, name, age, car):\n",
    "        super().__init__(name, age)\n",
    "        self.car = car\n",
    "        \n",
    "user_1 = Car('Jatin', 28, 'Ertiga')    #here you can update the data."
   ]
  },
  {
   "cell_type": "code",
   "execution_count": 87,
   "id": "99e4492a",
   "metadata": {},
   "outputs": [
    {
     "data": {
      "text/plain": [
       "28"
      ]
     },
     "execution_count": 87,
     "metadata": {},
     "output_type": "execute_result"
    }
   ],
   "source": [
    "user_1.age"
   ]
  },
  {
   "cell_type": "code",
   "execution_count": 88,
   "id": "e314fc7a",
   "metadata": {},
   "outputs": [],
   "source": [
    "# Encapsulation includes getters and setters."
   ]
  },
  {
   "cell_type": "code",
   "execution_count": 89,
   "id": "74c378b6",
   "metadata": {},
   "outputs": [],
   "source": [
    "# Super is used for one time inheritence but, class name is used for multiple inheritance\n",
    "# Eg:- Fruit.__init__(self,season,name)"
   ]
  },
  {
   "cell_type": "code",
   "execution_count": 90,
   "id": "05c576df",
   "metadata": {},
   "outputs": [],
   "source": [
    "class Skills():   #overriding\n",
    "    def __init__(self):\n",
    "        pass\n",
    "    def msg(self):\n",
    "        print('so you have the skills!!')"
   ]
  },
  {
   "cell_type": "code",
   "execution_count": 91,
   "id": "7ab70536",
   "metadata": {},
   "outputs": [],
   "source": [
    "class HR():\n",
    "    def __init__(self):\n",
    "        super(HR, self).__init__()\n",
    "    def msg(self):\n",
    "        print(\"Good luck another time, you don't have the skills needed!!\")"
   ]
  },
  {
   "cell_type": "code",
   "execution_count": 109,
   "id": "6c932e96",
   "metadata": {},
   "outputs": [],
   "source": [
    "communication = HR()"
   ]
  },
  {
   "cell_type": "code",
   "execution_count": 108,
   "id": "5f08abe9",
   "metadata": {},
   "outputs": [
    {
     "name": "stdout",
     "output_type": "stream",
     "text": [
      "Good luck another time, you don't have the skills needed!!\n"
     ]
    }
   ],
   "source": [
    "communication.msg()"
   ]
  },
  {
   "cell_type": "code",
   "execution_count": 112,
   "id": "d5b08606",
   "metadata": {},
   "outputs": [
    {
     "name": "stdout",
     "output_type": "stream",
     "text": [
      "_______________Welcome to the CCG(Color Choices Game)___________________\n",
      "Enter a color code from the given choices: 1.Red 2.Yellow 3.Orange 4.Green 5.Blue: 7\n",
      "Invalid input!!!\n",
      "Do you want to play again?(reply with 'Y'/'N') Y\n",
      "Enter a color code from the given choices: 1.Red 2.Yellow 3.Orange 4.Green 5.Blue: 3\n",
      "Computer won!!!\n",
      "User color:  orange\n",
      "Computer color:  green\n",
      "Do you want to play again?(reply with 'Y'/'N') Y\n",
      "Enter a color code from the given choices: 1.Red 2.Yellow 3.Orange 4.Green 5.Blue: 5\n",
      "User won!!!\n",
      "User color:  blue\n",
      "Computer color:  green\n",
      "Do you want to play again?(reply with 'Y'/'N') N\n",
      "Thanks!!\n"
     ]
    }
   ],
   "source": [
    "# Color Choices Game\n",
    "import random\n",
    "ncount = 0\n",
    "rcount = 0\n",
    "draw = 0\n",
    "q = 1\n",
    "print(\"_______________Welcome to the CCG(Color Choices Game)___________________\")\n",
    "while(q==1):\n",
    "    n = int(input(\"Enter a color code from the given choices: 1.Red 2.Yellow 3.Orange 4.Green 5.Blue: \"))\n",
    "    if(n==1):\n",
    "        usercolor = 'red'\n",
    "    elif(n==2):\n",
    "        usercolor = 'yellow'\n",
    "    elif(n==3):\n",
    "        usercolor = 'orange'\n",
    "    elif(n==4):\n",
    "        usercolor = 'green'\n",
    "    else:\n",
    "        usercolor = 'blue'\n",
    "        \n",
    "    # Computer turn\n",
    "    randomm = random.randint(1,5)\n",
    "    if(randomm==1):\n",
    "        randcolor = 'red'\n",
    "    elif(randomm==2):\n",
    "        randcolor = 'yellow'\n",
    "    elif(randomm==3):\n",
    "        randcolor = 'orange'\n",
    "    elif(randomm==4):\n",
    "        randcolor = 'green'\n",
    "    else:\n",
    "        randcolor = 'blue'\n",
    "    \n",
    "    #Condition checking\n",
    "    if(n>5):\n",
    "        print(\"Invalid input!!!\")\n",
    "    elif(n<1):\n",
    "        print(\"Invalid input!!\")\n",
    "    elif(n>randomm):\n",
    "        print(\"User won!!!\")\n",
    "        print(\"User color: \", usercolor)\n",
    "        print(\"Computer color: \", randcolor)\n",
    "    elif(n<randomm):\n",
    "        print(\"Computer won!!!\")\n",
    "        print(\"User color: \", usercolor)\n",
    "        print(\"Computer color: \", randcolor)\n",
    "    else:\n",
    "        print(\"Tiee!!!\")\n",
    "        print(\"User color: \", usercolor)\n",
    "        print(\"Computer color: \", randcolor)\n",
    "   \n",
    "    # Wants to play again or not\n",
    "    yorno = input(\"Do you want to play again?(reply with 'Y'/'N') \")\n",
    "    if(yorno=='Y'):\n",
    "        continue\n",
    "    elif(yorno=='N'):\n",
    "        q=0\n",
    "    else:\n",
    "        print(\"Invalid input!!\")\n",
    "\n",
    "print(\"Thanks!!\")"
   ]
  },
  {
   "cell_type": "code",
   "execution_count": null,
   "id": "8ff17f52",
   "metadata": {},
   "outputs": [],
   "source": []
  },
  {
   "cell_type": "code",
   "execution_count": null,
   "id": "4682efba",
   "metadata": {},
   "outputs": [],
   "source": []
  }
 ],
 "metadata": {
  "kernelspec": {
   "display_name": "Python 3 (ipykernel)",
   "language": "python",
   "name": "python3"
  },
  "language_info": {
   "codemirror_mode": {
    "name": "ipython",
    "version": 3
   },
   "file_extension": ".py",
   "mimetype": "text/x-python",
   "name": "python",
   "nbconvert_exporter": "python",
   "pygments_lexer": "ipython3",
   "version": "3.11.0"
  }
 },
 "nbformat": 4,
 "nbformat_minor": 5
}
