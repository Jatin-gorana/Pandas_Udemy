{
 "cells": [
  {
   "cell_type": "code",
   "execution_count": 1,
   "id": "1a1155be",
   "metadata": {},
   "outputs": [],
   "source": [
    "import numpy as np"
   ]
  },
  {
   "cell_type": "code",
   "execution_count": 2,
   "id": "999eb10f",
   "metadata": {},
   "outputs": [
    {
     "data": {
      "text/plain": [
       "array([10, 20, 30])"
      ]
     },
     "execution_count": 2,
     "metadata": {},
     "output_type": "execute_result"
    }
   ],
   "source": [
    "# Learning 1D, 2D and multi-dimensional arrays\n",
    "array_1 = np.array([10,20,30])\n",
    "array_1"
   ]
  },
  {
   "cell_type": "code",
   "execution_count": 3,
   "id": "0dcd1eb8",
   "metadata": {},
   "outputs": [
    {
     "data": {
      "text/plain": [
       "array([[1, 2, 3],\n",
       "       [4, 5, 6]])"
      ]
     },
     "execution_count": 3,
     "metadata": {},
     "output_type": "execute_result"
    }
   ],
   "source": [
    "array_2 = np.array([[1,2,3,], [4,5,6]])\n",
    "array_2"
   ]
  },
  {
   "cell_type": "code",
   "execution_count": 6,
   "id": "2ec99d8f",
   "metadata": {},
   "outputs": [
    {
     "data": {
      "text/plain": [
       "numpy.ndarray"
      ]
     },
     "execution_count": 6,
     "metadata": {},
     "output_type": "execute_result"
    }
   ],
   "source": [
    "type(array_1)\n",
    "type(array_2)"
   ]
  },
  {
   "cell_type": "code",
   "execution_count": 7,
   "id": "28983a0d",
   "metadata": {},
   "outputs": [
    {
     "data": {
      "text/plain": [
       "array([[[ 1,  2,  3],\n",
       "        [ 4,  5,  6],\n",
       "        [ 7,  8,  9]],\n",
       "\n",
       "       [[12, 23, 34],\n",
       "        [45, 56, 67],\n",
       "        [78, 89, 90]]])"
      ]
     },
     "execution_count": 7,
     "metadata": {},
     "output_type": "execute_result"
    }
   ],
   "source": [
    "array_3 = np.array([[[1,2,3], [4,5,6], [7,8,9]], [[12,23,34], [45,56,67], [78,89,90]]])\n",
    "array_3"
   ]
  },
  {
   "cell_type": "code",
   "execution_count": 8,
   "id": "f30645be",
   "metadata": {},
   "outputs": [
    {
     "data": {
      "text/plain": [
       "(2, 3)"
      ]
     },
     "execution_count": 8,
     "metadata": {},
     "output_type": "execute_result"
    }
   ],
   "source": [
    "array_2.shape    # this gives row and column"
   ]
  },
  {
   "cell_type": "code",
   "execution_count": 9,
   "id": "780c34fc",
   "metadata": {},
   "outputs": [
    {
     "data": {
      "text/plain": [
       "((2, 3, 3), (3,))"
      ]
     },
     "execution_count": 9,
     "metadata": {},
     "output_type": "execute_result"
    }
   ],
   "source": [
    "array_3.shape, array_1.shape   # this for 3D array will give 2arrays, 3rows and 3column"
   ]
  },
  {
   "cell_type": "code",
   "execution_count": 10,
   "id": "c057540f",
   "metadata": {},
   "outputs": [
    {
     "data": {
      "text/plain": [
       "(1, 2, 3)"
      ]
     },
     "execution_count": 10,
     "metadata": {},
     "output_type": "execute_result"
    }
   ],
   "source": [
    "array_1.ndim, array_2.ndim, array_3.ndim"
   ]
  },
  {
   "cell_type": "code",
   "execution_count": 11,
   "id": "ab013e60",
   "metadata": {},
   "outputs": [
    {
     "data": {
      "text/plain": [
       "(3, 6, 18)"
      ]
     },
     "execution_count": 11,
     "metadata": {},
     "output_type": "execute_result"
    }
   ],
   "source": [
    "array_1.size, array_2.size, array_3.size"
   ]
  },
  {
   "cell_type": "markdown",
   "id": "49af8482",
   "metadata": {},
   "source": [
    "Array can be converted into dataframe using Pandas."
   ]
  },
  {
   "cell_type": "code",
   "execution_count": 13,
   "id": "88356a12",
   "metadata": {},
   "outputs": [],
   "source": [
    "import pandas as pd\n",
    "df1 = pd.DataFrame(array_1)"
   ]
  },
  {
   "cell_type": "code",
   "execution_count": 14,
   "id": "88bab108",
   "metadata": {},
   "outputs": [
    {
     "data": {
      "text/html": [
       "<div>\n",
       "<style scoped>\n",
       "    .dataframe tbody tr th:only-of-type {\n",
       "        vertical-align: middle;\n",
       "    }\n",
       "\n",
       "    .dataframe tbody tr th {\n",
       "        vertical-align: top;\n",
       "    }\n",
       "\n",
       "    .dataframe thead th {\n",
       "        text-align: right;\n",
       "    }\n",
       "</style>\n",
       "<table border=\"1\" class=\"dataframe\">\n",
       "  <thead>\n",
       "    <tr style=\"text-align: right;\">\n",
       "      <th></th>\n",
       "      <th>0</th>\n",
       "    </tr>\n",
       "  </thead>\n",
       "  <tbody>\n",
       "    <tr>\n",
       "      <th>0</th>\n",
       "      <td>10</td>\n",
       "    </tr>\n",
       "    <tr>\n",
       "      <th>1</th>\n",
       "      <td>20</td>\n",
       "    </tr>\n",
       "    <tr>\n",
       "      <th>2</th>\n",
       "      <td>30</td>\n",
       "    </tr>\n",
       "  </tbody>\n",
       "</table>\n",
       "</div>"
      ],
      "text/plain": [
       "    0\n",
       "0  10\n",
       "1  20\n",
       "2  30"
      ]
     },
     "execution_count": 14,
     "metadata": {},
     "output_type": "execute_result"
    }
   ],
   "source": [
    "df1"
   ]
  },
  {
   "cell_type": "code",
   "execution_count": 16,
   "id": "74c16bfd",
   "metadata": {},
   "outputs": [
    {
     "data": {
      "text/html": [
       "<div>\n",
       "<style scoped>\n",
       "    .dataframe tbody tr th:only-of-type {\n",
       "        vertical-align: middle;\n",
       "    }\n",
       "\n",
       "    .dataframe tbody tr th {\n",
       "        vertical-align: top;\n",
       "    }\n",
       "\n",
       "    .dataframe thead th {\n",
       "        text-align: right;\n",
       "    }\n",
       "</style>\n",
       "<table border=\"1\" class=\"dataframe\">\n",
       "  <thead>\n",
       "    <tr style=\"text-align: right;\">\n",
       "      <th></th>\n",
       "      <th>0</th>\n",
       "      <th>1</th>\n",
       "      <th>2</th>\n",
       "    </tr>\n",
       "  </thead>\n",
       "  <tbody>\n",
       "    <tr>\n",
       "      <th>0</th>\n",
       "      <td>1</td>\n",
       "      <td>2</td>\n",
       "      <td>3</td>\n",
       "    </tr>\n",
       "    <tr>\n",
       "      <th>1</th>\n",
       "      <td>4</td>\n",
       "      <td>5</td>\n",
       "      <td>6</td>\n",
       "    </tr>\n",
       "  </tbody>\n",
       "</table>\n",
       "</div>"
      ],
      "text/plain": [
       "   0  1  2\n",
       "0  1  2  3\n",
       "1  4  5  6"
      ]
     },
     "execution_count": 16,
     "metadata": {},
     "output_type": "execute_result"
    }
   ],
   "source": [
    "df2 = pd.DataFrame(array_2)\n",
    "df2"
   ]
  },
  {
   "cell_type": "code",
   "execution_count": 20,
   "id": "6d94ebc7",
   "metadata": {},
   "outputs": [
    {
     "data": {
      "text/html": [
       "<div>\n",
       "<style scoped>\n",
       "    .dataframe tbody tr th:only-of-type {\n",
       "        vertical-align: middle;\n",
       "    }\n",
       "\n",
       "    .dataframe tbody tr th {\n",
       "        vertical-align: top;\n",
       "    }\n",
       "\n",
       "    .dataframe thead th {\n",
       "        text-align: right;\n",
       "    }\n",
       "</style>\n",
       "<table border=\"1\" class=\"dataframe\">\n",
       "  <thead>\n",
       "    <tr style=\"text-align: right;\">\n",
       "      <th></th>\n",
       "      <th>0</th>\n",
       "      <th>1</th>\n",
       "      <th>2</th>\n",
       "      <th>3</th>\n",
       "      <th>4</th>\n",
       "      <th>5</th>\n",
       "    </tr>\n",
       "  </thead>\n",
       "  <tbody>\n",
       "    <tr>\n",
       "      <th>0</th>\n",
       "      <td>1</td>\n",
       "      <td>2</td>\n",
       "      <td>3</td>\n",
       "      <td>4</td>\n",
       "      <td>5</td>\n",
       "      <td>6</td>\n",
       "    </tr>\n",
       "    <tr>\n",
       "      <th>1</th>\n",
       "      <td>7</td>\n",
       "      <td>8</td>\n",
       "      <td>9</td>\n",
       "      <td>12</td>\n",
       "      <td>23</td>\n",
       "      <td>34</td>\n",
       "    </tr>\n",
       "    <tr>\n",
       "      <th>2</th>\n",
       "      <td>45</td>\n",
       "      <td>56</td>\n",
       "      <td>67</td>\n",
       "      <td>78</td>\n",
       "      <td>89</td>\n",
       "      <td>90</td>\n",
       "    </tr>\n",
       "  </tbody>\n",
       "</table>\n",
       "</div>"
      ],
      "text/plain": [
       "    0   1   2   3   4   5\n",
       "0   1   2   3   4   5   6\n",
       "1   7   8   9  12  23  34\n",
       "2  45  56  67  78  89  90"
      ]
     },
     "execution_count": 20,
     "metadata": {},
     "output_type": "execute_result"
    }
   ],
   "source": [
    "df3 = pd.DataFrame(array_3.reshape(3,6))\n",
    "df3"
   ]
  },
  {
   "cell_type": "code",
   "execution_count": 21,
   "id": "2c83e65a",
   "metadata": {},
   "outputs": [
    {
     "data": {
      "text/plain": [
       "array([0., 0., 0., 0., 0.])"
      ]
     },
     "execution_count": 21,
     "metadata": {},
     "output_type": "execute_result"
    }
   ],
   "source": [
    "ar_zeros = np.zeros(5)\n",
    "ar_zeros"
   ]
  },
  {
   "cell_type": "code",
   "execution_count": 26,
   "id": "7e7bf8ce",
   "metadata": {},
   "outputs": [
    {
     "data": {
      "text/plain": [
       "array([1., 1., 1., 1.])"
      ]
     },
     "execution_count": 26,
     "metadata": {},
     "output_type": "execute_result"
    }
   ],
   "source": [
    "ar_ones = np.ones(4)\n",
    "ar_ones"
   ]
  },
  {
   "cell_type": "code",
   "execution_count": 27,
   "id": "f31c87a6",
   "metadata": {},
   "outputs": [
    {
     "data": {
      "text/plain": [
       "((4,), (5,))"
      ]
     },
     "execution_count": 27,
     "metadata": {},
     "output_type": "execute_result"
    }
   ],
   "source": [
    "ar_ones.shape, ar_zeros.shape"
   ]
  },
  {
   "cell_type": "code",
   "execution_count": 37,
   "id": "c63d6f11",
   "metadata": {},
   "outputs": [
    {
     "data": {
      "text/plain": [
       "array([ 3,  6,  9, 12, 15, 18, 21, 24, 27, 30])"
      ]
     },
     "execution_count": 37,
     "metadata": {},
     "output_type": "execute_result"
    }
   ],
   "source": [
    "arr1 = np.arange(3,31, 3)\n",
    "arr1"
   ]
  },
  {
   "cell_type": "code",
   "execution_count": 41,
   "id": "7317a61c",
   "metadata": {},
   "outputs": [
    {
     "data": {
      "text/plain": [
       "array([[11, 16, 15, 12],\n",
       "       [15, 11, 18, 10],\n",
       "       [15, 14, 10, 12]])"
      ]
     },
     "execution_count": 41,
     "metadata": {},
     "output_type": "execute_result"
    }
   ],
   "source": [
    "randarr1 = np.random.randint(10,20,size = (3,4))\n",
    "randarr1"
   ]
  },
  {
   "cell_type": "code",
   "execution_count": 43,
   "id": "1cdcbc27",
   "metadata": {},
   "outputs": [
    {
     "data": {
      "text/plain": [
       "array([[0.33106457, 0.05727364, 0.20795173, 0.20931594, 0.24864811,\n",
       "        0.04406193, 0.11084105],\n",
       "       [0.28417665, 0.10469258, 0.78092725, 0.06266392, 0.00835724,\n",
       "        0.10970388, 0.88847698],\n",
       "       [0.32920443, 0.09383073, 0.6092393 , 0.70251673, 0.73172754,\n",
       "        0.02983008, 0.22601818],\n",
       "       [0.88077078, 0.23630148, 0.69350718, 0.67551413, 0.77072884,\n",
       "        0.79768631, 0.09394562]])"
      ]
     },
     "execution_count": 43,
     "metadata": {},
     "output_type": "execute_result"
    }
   ],
   "source": [
    "randarr2 = np.random.random((4,7))\n",
    "randarr2"
   ]
  },
  {
   "cell_type": "code",
   "execution_count": 44,
   "id": "b4ad2ec3",
   "metadata": {},
   "outputs": [
    {
     "data": {
      "text/plain": [
       "array([[0.99935895, 0.9139324 , 0.19508674, 0.74532632, 0.14279656,\n",
       "        0.0827203 , 0.33644948],\n",
       "       [0.98684302, 0.68432337, 0.89484513, 0.4435135 , 0.61827153,\n",
       "        0.35492785, 0.91880676],\n",
       "       [0.94159794, 0.3244179 , 0.79996666, 0.96593024, 0.63492393,\n",
       "        0.25761322, 0.897997  ],\n",
       "       [0.86069684, 0.76495667, 0.64753993, 0.39782214, 0.63004954,\n",
       "        0.21168682, 0.57439993]])"
      ]
     },
     "execution_count": 44,
     "metadata": {},
     "output_type": "execute_result"
    }
   ],
   "source": [
    "randarr3 = np.random.rand(4,7)\n",
    "randarr3"
   ]
  },
  {
   "cell_type": "code",
   "execution_count": 53,
   "id": "230bbc59",
   "metadata": {},
   "outputs": [
    {
     "data": {
      "text/plain": [
       "array([[22, 25, 10, 13, 13],\n",
       "       [17, 19, 29, 28, 14],\n",
       "       [16, 22, 11, 16, 17],\n",
       "       [24, 27, 15, 23, 18]])"
      ]
     },
     "execution_count": 53,
     "metadata": {},
     "output_type": "execute_result"
    }
   ],
   "source": [
    "np.random.seed(0)\n",
    "randarr4 = np.random.randint(10,30,size=(4,5))\n",
    "randarr4"
   ]
  },
  {
   "cell_type": "code",
   "execution_count": 54,
   "id": "d36cc9d6",
   "metadata": {},
   "outputs": [
    {
     "data": {
      "text/plain": [
       "array([[[[19, 29, 26, 29, 15],\n",
       "         [25, 25, 10, 28, 13],\n",
       "         [27, 29, 29, 29, 24],\n",
       "         [17, 10, 11, 19, 10]],\n",
       "\n",
       "        [[20, 13, 21, 28, 12],\n",
       "         [10, 10, 14, 15, 16],\n",
       "         [18, 27, 25, 14, 19],\n",
       "         [20, 11, 11, 17, 19]],\n",
       "\n",
       "        [[13, 16, 21, 24, 28],\n",
       "         [10, 24, 13, 22, 20],\n",
       "         [21, 14, 16, 14, 25],\n",
       "         [13, 22, 14, 18, 24]]],\n",
       "\n",
       "\n",
       "       [[[25, 13, 25, 23, 26],\n",
       "         [27, 15, 19, 13, 10],\n",
       "         [15, 10, 27, 28, 14],\n",
       "         [12, 26, 13, 12, 20]],\n",
       "\n",
       "        [[23, 26, 17, 19, 10],\n",
       "         [20, 28, 21, 12, 12],\n",
       "         [13, 13, 28, 24, 13],\n",
       "         [27, 28, 24, 19, 11]],\n",
       "\n",
       "        [[14, 20, 21, 18, 21],\n",
       "         [12, 29, 26, 10, 10],\n",
       "         [16, 29, 24, 20, 29],\n",
       "         [18, 23, 12, 13, 12]]]])"
      ]
     },
     "execution_count": 54,
     "metadata": {},
     "output_type": "execute_result"
    }
   ],
   "source": [
    "randarr5 = np.random.randint(10,30,size=(2,3,4,5))\n",
    "randarr5"
   ]
  },
  {
   "cell_type": "code",
   "execution_count": 65,
   "id": "344bb4a6",
   "metadata": {},
   "outputs": [
    {
     "data": {
      "text/plain": [
       "array([ 6,  8, 10, 12, 14])"
      ]
     },
     "execution_count": 65,
     "metadata": {},
     "output_type": "execute_result"
    }
   ],
   "source": [
    "a1 = np.array([1,2,3,4,5])\n",
    "a2 = np.array([5,6,7,8,9])\n",
    "a1+a2\n",
    "# a1-a2\n",
    "# a1*a2\n",
    "# a1/a2\n",
    "# a1%a2"
   ]
  },
  {
   "cell_type": "code",
   "execution_count": 66,
   "id": "e6f6c9a5",
   "metadata": {},
   "outputs": [
    {
     "data": {
      "text/plain": [
       "array([0.        , 0.69314718, 1.09861229, 1.38629436, 1.60943791])"
      ]
     },
     "execution_count": 66,
     "metadata": {},
     "output_type": "execute_result"
    }
   ],
   "source": [
    "np.log(a1)"
   ]
  },
  {
   "cell_type": "code",
   "execution_count": 67,
   "id": "6c0a85c3",
   "metadata": {},
   "outputs": [
    {
     "data": {
      "text/plain": [
       "array([ 148.4131591 ,  403.42879349, 1096.63315843, 2980.95798704,\n",
       "       8103.08392758])"
      ]
     },
     "execution_count": 67,
     "metadata": {},
     "output_type": "execute_result"
    }
   ],
   "source": [
    "np.exp(a2)"
   ]
  },
  {
   "cell_type": "code",
   "execution_count": 69,
   "id": "b8aab8b9",
   "metadata": {},
   "outputs": [
    {
     "data": {
      "text/plain": [
       "(15, 35)"
      ]
     },
     "execution_count": 69,
     "metadata": {},
     "output_type": "execute_result"
    }
   ],
   "source": [
    "np.sum(a1), sum(a2)"
   ]
  },
  {
   "cell_type": "code",
   "execution_count": 70,
   "id": "ace6f4fe",
   "metadata": {},
   "outputs": [
    {
     "data": {
      "text/plain": [
       "7.0"
      ]
     },
     "execution_count": 70,
     "metadata": {},
     "output_type": "execute_result"
    }
   ],
   "source": [
    "np.mean(a2)"
   ]
  },
  {
   "cell_type": "code",
   "execution_count": 71,
   "id": "82f76744",
   "metadata": {},
   "outputs": [
    {
     "data": {
      "text/plain": [
       "3.0"
      ]
     },
     "execution_count": 71,
     "metadata": {},
     "output_type": "execute_result"
    }
   ],
   "source": [
    "np.median(a1)"
   ]
  },
  {
   "cell_type": "code",
   "execution_count": 75,
   "id": "13aa80f8",
   "metadata": {},
   "outputs": [
    {
     "data": {
      "text/plain": [
       "(5, 5)"
      ]
     },
     "execution_count": 75,
     "metadata": {},
     "output_type": "execute_result"
    }
   ],
   "source": [
    "np.max(a1), np.min(a2)"
   ]
  },
  {
   "cell_type": "code",
   "execution_count": 76,
   "id": "4a26328c",
   "metadata": {},
   "outputs": [
    {
     "data": {
      "text/plain": [
       "1.4142135623730951"
      ]
     },
     "execution_count": 76,
     "metadata": {},
     "output_type": "execute_result"
    }
   ],
   "source": [
    "np.std(a1)"
   ]
  },
  {
   "cell_type": "code",
   "execution_count": 77,
   "id": "cce69595",
   "metadata": {},
   "outputs": [
    {
     "data": {
      "text/plain": [
       "2.0"
      ]
     },
     "execution_count": 77,
     "metadata": {},
     "output_type": "execute_result"
    }
   ],
   "source": [
    "np.var(a2)"
   ]
  },
  {
   "cell_type": "code",
   "execution_count": 79,
   "id": "bc91726e",
   "metadata": {},
   "outputs": [
    {
     "data": {
      "text/plain": [
       "array([2.23606798, 2.44948974, 2.64575131, 2.82842712, 3.        ])"
      ]
     },
     "execution_count": 79,
     "metadata": {},
     "output_type": "execute_result"
    }
   ],
   "source": [
    "np.sqrt(a2)"
   ]
  },
  {
   "cell_type": "markdown",
   "id": "bf244c42",
   "metadata": {},
   "source": [
    "STD = SQRT(VAR)"
   ]
  },
  {
   "cell_type": "code",
   "execution_count": 87,
   "id": "5248aa9e",
   "metadata": {},
   "outputs": [
    {
     "data": {
      "text/plain": [
       "True"
      ]
     },
     "execution_count": 87,
     "metadata": {},
     "output_type": "execute_result"
    }
   ],
   "source": [
    "np.std(a1) == np.sqrt(np.var(a1))"
   ]
  },
  {
   "cell_type": "code",
   "execution_count": 96,
   "id": "42e8bf95",
   "metadata": {},
   "outputs": [
    {
     "data": {
      "text/plain": [
       "(2, 2, 3)"
      ]
     },
     "execution_count": 96,
     "metadata": {},
     "output_type": "execute_result"
    }
   ],
   "source": [
    "array1 = np.array([[[1,2,3], [4,5,6]], [[12,23,34], [34,45,56]]])\n",
    "array1.shape"
   ]
  },
  {
   "cell_type": "code",
   "execution_count": 103,
   "id": "194770b2",
   "metadata": {},
   "outputs": [
    {
     "data": {
      "text/plain": [
       "(2, 3, 2)"
      ]
     },
     "execution_count": 103,
     "metadata": {},
     "output_type": "execute_result"
    }
   ],
   "source": [
    "array2 = np.array([[[1,2], [4,5], [7,8]], [[12,23], [34,45], [67,78]]])\n",
    "array2.shape"
   ]
  },
  {
   "cell_type": "code",
   "execution_count": 106,
   "id": "d774b3af",
   "metadata": {},
   "outputs": [],
   "source": [
    "array1 = array1.reshape(array2.shape)"
   ]
  },
  {
   "cell_type": "code",
   "execution_count": 107,
   "id": "d411e87b",
   "metadata": {},
   "outputs": [
    {
     "data": {
      "text/plain": [
       "array([[[   1,    4],\n",
       "        [  12,   20],\n",
       "        [  35,   48]],\n",
       "\n",
       "       [[ 144,  529],\n",
       "        [1156, 1530],\n",
       "        [3015, 4368]]])"
      ]
     },
     "execution_count": 107,
     "metadata": {},
     "output_type": "execute_result"
    }
   ],
   "source": [
    "array1*array2"
   ]
  },
  {
   "cell_type": "code",
   "execution_count": 108,
   "id": "d4175bbc",
   "metadata": {},
   "outputs": [
    {
     "data": {
      "text/plain": [
       "(2, 3, 2)"
      ]
     },
     "execution_count": 108,
     "metadata": {},
     "output_type": "execute_result"
    }
   ],
   "source": [
    "array1.shape"
   ]
  },
  {
   "cell_type": "code",
   "execution_count": 121,
   "id": "c4d6a1b0",
   "metadata": {},
   "outputs": [
    {
     "data": {
      "text/plain": [
       "(3, 3, 2)"
      ]
     },
     "execution_count": 121,
     "metadata": {},
     "output_type": "execute_result"
    }
   ],
   "source": [
    "array4 = np.array([[[1,2,3], [4,5,6], [7,8,9]], [[12,23,34], [34,45,56], [67,78,89]]])\n",
    "array4.shape\n",
    "array4 = array4.T\n",
    "array4.shape"
   ]
  },
  {
   "cell_type": "markdown",
   "id": "5b552dcd",
   "metadata": {},
   "source": [
    "Comparison operations can be done:\n",
    "<!-- >\n",
    "<\n",
    "==\n",
    "!=\n",
    "All these can be done -->"
   ]
  },
  {
   "cell_type": "code",
   "execution_count": 130,
   "id": "07fcd675",
   "metadata": {},
   "outputs": [
    {
     "data": {
      "text/plain": [
       "False"
      ]
     },
     "execution_count": 130,
     "metadata": {},
     "output_type": "execute_result"
    }
   ],
   "source": [
    "array1.shape == array4.shape"
   ]
  },
  {
   "cell_type": "markdown",
   "id": "aba1980f",
   "metadata": {},
   "source": [
    "<img src = \"image.jpg\"/>"
   ]
  },
  {
   "cell_type": "code",
   "execution_count": 134,
   "id": "f9bac55e",
   "metadata": {},
   "outputs": [],
   "source": [
    "from matplotlib.image import imread"
   ]
  },
  {
   "cell_type": "code",
   "execution_count": 136,
   "id": "281ea976",
   "metadata": {},
   "outputs": [],
   "source": [
    "image = imread(\"image.jpg\")"
   ]
  },
  {
   "cell_type": "code",
   "execution_count": 137,
   "id": "f7a67c6d",
   "metadata": {},
   "outputs": [
    {
     "data": {
      "text/plain": [
       "array([[[18, 28, 29],\n",
       "        [19, 29, 30],\n",
       "        [17, 27, 28],\n",
       "        ...,\n",
       "        [ 3, 15, 15],\n",
       "        [ 3, 15, 15],\n",
       "        [ 4, 16, 16]],\n",
       "\n",
       "       [[17, 27, 28],\n",
       "        [18, 28, 29],\n",
       "        [17, 27, 28],\n",
       "        ...,\n",
       "        [ 1, 13, 13],\n",
       "        [ 1, 13, 13],\n",
       "        [ 2, 14, 14]],\n",
       "\n",
       "       [[17, 27, 28],\n",
       "        [18, 28, 29],\n",
       "        [17, 27, 28],\n",
       "        ...,\n",
       "        [ 0, 12, 12],\n",
       "        [ 0, 12, 12],\n",
       "        [ 1, 13, 13]],\n",
       "\n",
       "       ...,\n",
       "\n",
       "       [[20, 24, 23],\n",
       "        [20, 24, 23],\n",
       "        [19, 25, 23],\n",
       "        ...,\n",
       "        [ 2,  7, 10],\n",
       "        [ 2,  7, 10],\n",
       "        [ 2,  7, 10]],\n",
       "\n",
       "       [[17, 21, 20],\n",
       "        [17, 21, 20],\n",
       "        [16, 22, 20],\n",
       "        ...,\n",
       "        [ 2,  7, 10],\n",
       "        [ 2,  7, 10],\n",
       "        [ 2,  7, 10]],\n",
       "\n",
       "       [[11, 17, 15],\n",
       "        [12, 18, 16],\n",
       "        [12, 18, 16],\n",
       "        ...,\n",
       "        [ 2,  7, 10],\n",
       "        [ 2,  7, 10],\n",
       "        [ 2,  7, 10]]], dtype=uint8)"
      ]
     },
     "execution_count": 137,
     "metadata": {},
     "output_type": "execute_result"
    }
   ],
   "source": [
    "image"
   ]
  },
  {
   "cell_type": "code",
   "execution_count": 138,
   "id": "3995c612",
   "metadata": {},
   "outputs": [
    {
     "data": {
      "text/plain": [
       "2764800"
      ]
     },
     "execution_count": 138,
     "metadata": {},
     "output_type": "execute_result"
    }
   ],
   "source": [
    "image.size"
   ]
  },
  {
   "cell_type": "code",
   "execution_count": 140,
   "id": "714bdbff",
   "metadata": {},
   "outputs": [
    {
     "data": {
      "text/plain": [
       "(720, 1280, 3)"
      ]
     },
     "execution_count": 140,
     "metadata": {},
     "output_type": "execute_result"
    }
   ],
   "source": [
    "image.shape"
   ]
  },
  {
   "cell_type": "code",
   "execution_count": 6,
   "id": "b6da0020",
   "metadata": {},
   "outputs": [],
   "source": [
    "import numpy as np\n",
    "ar = np.array([1,2,3,4,0])"
   ]
  },
  {
   "cell_type": "code",
   "execution_count": 7,
   "id": "a619418f",
   "metadata": {},
   "outputs": [
    {
     "data": {
      "text/plain": [
       "array([1, 2, 3, 4, 0])"
      ]
     },
     "execution_count": 7,
     "metadata": {},
     "output_type": "execute_result"
    }
   ],
   "source": [
    "ar"
   ]
  },
  {
   "cell_type": "code",
   "execution_count": 8,
   "id": "12e17892",
   "metadata": {},
   "outputs": [
    {
     "data": {
      "text/plain": [
       "(array([0, 1, 4], dtype=int64),)"
      ]
     },
     "execution_count": 8,
     "metadata": {},
     "output_type": "execute_result"
    }
   ],
   "source": [
    "np.where(ar<3)"
   ]
  },
  {
   "cell_type": "code",
   "execution_count": 9,
   "id": "154909f9",
   "metadata": {},
   "outputs": [
    {
     "data": {
      "text/plain": [
       "4"
      ]
     },
     "execution_count": 9,
     "metadata": {},
     "output_type": "execute_result"
    }
   ],
   "source": [
    "np.count_nonzero(ar)"
   ]
  },
  {
   "cell_type": "code",
   "execution_count": null,
   "id": "af44ab0b",
   "metadata": {},
   "outputs": [],
   "source": []
  }
 ],
 "metadata": {
  "kernelspec": {
   "display_name": "Python 3 (ipykernel)",
   "language": "python",
   "name": "python3"
  },
  "language_info": {
   "codemirror_mode": {
    "name": "ipython",
    "version": 3
   },
   "file_extension": ".py",
   "mimetype": "text/x-python",
   "name": "python",
   "nbconvert_exporter": "python",
   "pygments_lexer": "ipython3",
   "version": "3.11.0"
  }
 },
 "nbformat": 4,
 "nbformat_minor": 5
}
